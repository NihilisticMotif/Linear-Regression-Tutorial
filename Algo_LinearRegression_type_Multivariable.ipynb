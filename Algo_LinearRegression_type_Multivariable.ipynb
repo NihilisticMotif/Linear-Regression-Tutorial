{
  "nbformat": 4,
  "nbformat_minor": 0,
  "metadata": {
    "colab": {
      "provenance": [],
      "authorship_tag": "ABX9TyOF+CPfkakJQN16FaxUoiHm",
      "include_colab_link": true
    },
    "kernelspec": {
      "name": "python3",
      "display_name": "Python 3"
    },
    "language_info": {
      "name": "python"
    }
  },
  "cells": [
    {
      "cell_type": "markdown",
      "metadata": {
        "id": "view-in-github",
        "colab_type": "text"
      },
      "source": [
        "<a href=\"https://colab.research.google.com/github/NihilisticMotif/Linear-Regression-Tutorial/blob/main/Algo_LinearRegression_type_Multivariable.ipynb\" target=\"_parent\"><img src=\"https://colab.research.google.com/assets/colab-badge.svg\" alt=\"Open In Colab\"/></a>"
      ]
    },
    {
      "cell_type": "markdown",
      "source": [
        "###Introduction of multivariate linear regression"
      ],
      "metadata": {
        "id": "yCbe_6GQG3BD"
      }
    },
    {
      "cell_type": "markdown",
      "source": [
        "Linear regression with multiple variables is also known as \"multivariate linear regression\"."
      ],
      "metadata": {
        "id": "X5jL8pH_HYVQ"
      }
    },
    {
      "cell_type": "markdown",
      "source": [
        "Variable\n",
        "* $h(x)=$ Hypothesis function\n",
        "* $h_i=$ constant in hypothesis function\n",
        "* $a=$ learning rate\n",
        "* $n=$ number of features of training example\n",
        "* $m=$ number of training example\n",
        "* $x_i=x^{(i)}=$ the input feature of $i$ th example. $| i\\le n$ ($i$ th column)\n",
        "* $x_{i,j}=x^{(i)}_j=$ value of $j$ th feature of the input feature of $i$ th example. $| j\\le m$ ($j$ th record)"
      ],
      "metadata": {
        "id": "l9vKBA7jHitR"
      }
    },
    {
      "cell_type": "markdown",
      "source": [
        "Hypothesis function:\n",
        "\n",
        "$h(x)=h_0+h_1*x_1+h_2*x_2+...+h_n*x_n$\n",
        "\n",
        "$h(x)=[h_0,h_1,...,h_n]\\begin{bmatrix}\n",
        "x_1\\\\\n",
        "...\\\\\n",
        "x_n\n",
        "\\end{bmatrix}=\\vec{h}\\cdot \\vec{x}$"
      ],
      "metadata": {
        "id": "vfaT4zyFHFdk"
      }
    },
    {
      "cell_type": "markdown",
      "source": [
        "Gradient Descent:\n",
        "\n",
        "$h_{i} := h_{i}-a*J'(h_{i})$\n",
        "\n",
        "$h_{i} := h_{i}-a*\\frac{1}{m}*\\Sigma_{i=1}^m(h(x_i)-y_i)*x_{i,j} | j:=0...m, 0<i\\leq n$"
      ],
      "metadata": {
        "id": "dCWFnGnsNYTR"
      }
    },
    {
      "cell_type": "markdown",
      "source": [
        "Remark: Note that for convenience reasons in this course we assume $x_{i,0}=x_{0}^{(i)} =1 \\text{ for } (i\\in { 1,\\dots, m } )$. This allows us to do matrix operations with theta and x. Hence making the two vectors $h_i$ and $x_{i,0}$ match each other element-wise (that is, have the same number of elements: $n+1$).\n",
        "\n",
        "Why?"
      ],
      "metadata": {
        "id": "D_HpcTi5JQe2"
      }
    },
    {
      "cell_type": "markdown",
      "source": [
        "###Step 1, Getting Data"
      ],
      "metadata": {
        "id": "EWtll8EhabDz"
      }
    },
    {
      "cell_type": "code",
      "source": [
        "!pip install --upgrade -q gspread"
      ],
      "metadata": {
        "id": "SC0oqdC1ryQC",
        "colab": {
          "base_uri": "https://localhost:8080/"
        },
        "outputId": "7691e9c5-44a8-4603-f250-8f16eac7c29b"
      },
      "execution_count": null,
      "outputs": [
        {
          "output_type": "stream",
          "name": "stdout",
          "text": [
            "\u001b[?25l\r\u001b[K     |████████                        | 10 kB 791 kB/s eta 0:00:01\r\u001b[K     |████████████████▏               | 20 kB 746 kB/s eta 0:00:01\r\u001b[K     |████████████████████████▎       | 30 kB 730 kB/s eta 0:00:01\r\u001b[K     |████████████████████████████████| 40 kB 715 kB/s \n",
            "\u001b[?25h"
          ]
        }
      ]
    },
    {
      "cell_type": "code",
      "source": [
        "# import\n",
        "\n",
        "from __future__ import absolute_import, division, print_function, unicode_literals\n",
        "\n",
        "import matplotlib.pyplot as plt\n",
        "import numpy as np\n",
        "import pandas as pd\n",
        "\n",
        "import sympy as smp\n",
        "from sympy import *\n",
        "\n",
        "from IPython.display import clear_output\n",
        "from six.moves import urllib\n",
        "\n",
        "import tensorflow as tf\n",
        "from IPython.display import display, Latex\n",
        "\n",
        "# Connect Google Collab with Google Sheet\n",
        "\n",
        "from google.colab import auth\n",
        "import gspread\n",
        "from google.auth import default\n",
        "from google.colab import data_table\n",
        "\n",
        "auth.authenticate_user()\n",
        "creds, _ = default()\n",
        "gc = gspread.authorize(creds)\n",
        "worksheet = gc.open('student-mat').get_worksheet(0)\n",
        "rows = worksheet.get_all_values()\n",
        "dfmain = pd.DataFrame(rows)\n",
        "\n",
        "# Display Data form Google Sheet\n",
        "\n",
        "dfmain.head()"
      ],
      "metadata": {
        "colab": {
          "base_uri": "https://localhost:8080/",
          "height": 235
        },
        "id": "jZUaG1TcqKQh",
        "outputId": "6a7f0535-4dc5-4fcd-915d-866bcdffee6c"
      },
      "execution_count": null,
      "outputs": [
        {
          "output_type": "execute_result",
          "data": {
            "text/plain": [
              "       0    1    2        3        4        5     6     7        8         9   \\\n",
              "0  school  sex  age  address  famsize  Pstatus  Medu  Fedu     Mjob      Fjob   \n",
              "1      GP    F   18        U      GT3        A     4     4  at_home   teacher   \n",
              "2      GP    F   17        U      GT3        T     1     1  at_home     other   \n",
              "3      GP    F   15        U      LE3        T     1     1  at_home     other   \n",
              "4      GP    F   15        U      GT3        T     4     2   health  services   \n",
              "\n",
              "   ...      23        24     25    26    27      28        29  30  31  32  \n",
              "0  ...  famrel  freetime  goout  Dalc  Walc  health  absences  G1  G2  G3  \n",
              "1  ...       4         3      4     1     1       3         6   5   6   6  \n",
              "2  ...       5         3      3     1     1       3         4   5   5   6  \n",
              "3  ...       4         3      2     2     3       3        10   7   8  10  \n",
              "4  ...       3         2      2     1     1       5         2  15  14  15  \n",
              "\n",
              "[5 rows x 33 columns]"
            ],
            "text/html": [
              "\n",
              "  <div id=\"df-e5bc7ef7-f3a5-4f95-a24e-f2768dc32ae1\">\n",
              "    <div class=\"colab-df-container\">\n",
              "      <div>\n",
              "<style scoped>\n",
              "    .dataframe tbody tr th:only-of-type {\n",
              "        vertical-align: middle;\n",
              "    }\n",
              "\n",
              "    .dataframe tbody tr th {\n",
              "        vertical-align: top;\n",
              "    }\n",
              "\n",
              "    .dataframe thead th {\n",
              "        text-align: right;\n",
              "    }\n",
              "</style>\n",
              "<table border=\"1\" class=\"dataframe\">\n",
              "  <thead>\n",
              "    <tr style=\"text-align: right;\">\n",
              "      <th></th>\n",
              "      <th>0</th>\n",
              "      <th>1</th>\n",
              "      <th>2</th>\n",
              "      <th>3</th>\n",
              "      <th>4</th>\n",
              "      <th>5</th>\n",
              "      <th>6</th>\n",
              "      <th>7</th>\n",
              "      <th>8</th>\n",
              "      <th>9</th>\n",
              "      <th>...</th>\n",
              "      <th>23</th>\n",
              "      <th>24</th>\n",
              "      <th>25</th>\n",
              "      <th>26</th>\n",
              "      <th>27</th>\n",
              "      <th>28</th>\n",
              "      <th>29</th>\n",
              "      <th>30</th>\n",
              "      <th>31</th>\n",
              "      <th>32</th>\n",
              "    </tr>\n",
              "  </thead>\n",
              "  <tbody>\n",
              "    <tr>\n",
              "      <th>0</th>\n",
              "      <td>school</td>\n",
              "      <td>sex</td>\n",
              "      <td>age</td>\n",
              "      <td>address</td>\n",
              "      <td>famsize</td>\n",
              "      <td>Pstatus</td>\n",
              "      <td>Medu</td>\n",
              "      <td>Fedu</td>\n",
              "      <td>Mjob</td>\n",
              "      <td>Fjob</td>\n",
              "      <td>...</td>\n",
              "      <td>famrel</td>\n",
              "      <td>freetime</td>\n",
              "      <td>goout</td>\n",
              "      <td>Dalc</td>\n",
              "      <td>Walc</td>\n",
              "      <td>health</td>\n",
              "      <td>absences</td>\n",
              "      <td>G1</td>\n",
              "      <td>G2</td>\n",
              "      <td>G3</td>\n",
              "    </tr>\n",
              "    <tr>\n",
              "      <th>1</th>\n",
              "      <td>GP</td>\n",
              "      <td>F</td>\n",
              "      <td>18</td>\n",
              "      <td>U</td>\n",
              "      <td>GT3</td>\n",
              "      <td>A</td>\n",
              "      <td>4</td>\n",
              "      <td>4</td>\n",
              "      <td>at_home</td>\n",
              "      <td>teacher</td>\n",
              "      <td>...</td>\n",
              "      <td>4</td>\n",
              "      <td>3</td>\n",
              "      <td>4</td>\n",
              "      <td>1</td>\n",
              "      <td>1</td>\n",
              "      <td>3</td>\n",
              "      <td>6</td>\n",
              "      <td>5</td>\n",
              "      <td>6</td>\n",
              "      <td>6</td>\n",
              "    </tr>\n",
              "    <tr>\n",
              "      <th>2</th>\n",
              "      <td>GP</td>\n",
              "      <td>F</td>\n",
              "      <td>17</td>\n",
              "      <td>U</td>\n",
              "      <td>GT3</td>\n",
              "      <td>T</td>\n",
              "      <td>1</td>\n",
              "      <td>1</td>\n",
              "      <td>at_home</td>\n",
              "      <td>other</td>\n",
              "      <td>...</td>\n",
              "      <td>5</td>\n",
              "      <td>3</td>\n",
              "      <td>3</td>\n",
              "      <td>1</td>\n",
              "      <td>1</td>\n",
              "      <td>3</td>\n",
              "      <td>4</td>\n",
              "      <td>5</td>\n",
              "      <td>5</td>\n",
              "      <td>6</td>\n",
              "    </tr>\n",
              "    <tr>\n",
              "      <th>3</th>\n",
              "      <td>GP</td>\n",
              "      <td>F</td>\n",
              "      <td>15</td>\n",
              "      <td>U</td>\n",
              "      <td>LE3</td>\n",
              "      <td>T</td>\n",
              "      <td>1</td>\n",
              "      <td>1</td>\n",
              "      <td>at_home</td>\n",
              "      <td>other</td>\n",
              "      <td>...</td>\n",
              "      <td>4</td>\n",
              "      <td>3</td>\n",
              "      <td>2</td>\n",
              "      <td>2</td>\n",
              "      <td>3</td>\n",
              "      <td>3</td>\n",
              "      <td>10</td>\n",
              "      <td>7</td>\n",
              "      <td>8</td>\n",
              "      <td>10</td>\n",
              "    </tr>\n",
              "    <tr>\n",
              "      <th>4</th>\n",
              "      <td>GP</td>\n",
              "      <td>F</td>\n",
              "      <td>15</td>\n",
              "      <td>U</td>\n",
              "      <td>GT3</td>\n",
              "      <td>T</td>\n",
              "      <td>4</td>\n",
              "      <td>2</td>\n",
              "      <td>health</td>\n",
              "      <td>services</td>\n",
              "      <td>...</td>\n",
              "      <td>3</td>\n",
              "      <td>2</td>\n",
              "      <td>2</td>\n",
              "      <td>1</td>\n",
              "      <td>1</td>\n",
              "      <td>5</td>\n",
              "      <td>2</td>\n",
              "      <td>15</td>\n",
              "      <td>14</td>\n",
              "      <td>15</td>\n",
              "    </tr>\n",
              "  </tbody>\n",
              "</table>\n",
              "<p>5 rows × 33 columns</p>\n",
              "</div>\n",
              "      <button class=\"colab-df-convert\" onclick=\"convertToInteractive('df-e5bc7ef7-f3a5-4f95-a24e-f2768dc32ae1')\"\n",
              "              title=\"Convert this dataframe to an interactive table.\"\n",
              "              style=\"display:none;\">\n",
              "        \n",
              "  <svg xmlns=\"http://www.w3.org/2000/svg\" height=\"24px\"viewBox=\"0 0 24 24\"\n",
              "       width=\"24px\">\n",
              "    <path d=\"M0 0h24v24H0V0z\" fill=\"none\"/>\n",
              "    <path d=\"M18.56 5.44l.94 2.06.94-2.06 2.06-.94-2.06-.94-.94-2.06-.94 2.06-2.06.94zm-11 1L8.5 8.5l.94-2.06 2.06-.94-2.06-.94L8.5 2.5l-.94 2.06-2.06.94zm10 10l.94 2.06.94-2.06 2.06-.94-2.06-.94-.94-2.06-.94 2.06-2.06.94z\"/><path d=\"M17.41 7.96l-1.37-1.37c-.4-.4-.92-.59-1.43-.59-.52 0-1.04.2-1.43.59L10.3 9.45l-7.72 7.72c-.78.78-.78 2.05 0 2.83L4 21.41c.39.39.9.59 1.41.59.51 0 1.02-.2 1.41-.59l7.78-7.78 2.81-2.81c.8-.78.8-2.07 0-2.86zM5.41 20L4 18.59l7.72-7.72 1.47 1.35L5.41 20z\"/>\n",
              "  </svg>\n",
              "      </button>\n",
              "      \n",
              "  <style>\n",
              "    .colab-df-container {\n",
              "      display:flex;\n",
              "      flex-wrap:wrap;\n",
              "      gap: 12px;\n",
              "    }\n",
              "\n",
              "    .colab-df-convert {\n",
              "      background-color: #E8F0FE;\n",
              "      border: none;\n",
              "      border-radius: 50%;\n",
              "      cursor: pointer;\n",
              "      display: none;\n",
              "      fill: #1967D2;\n",
              "      height: 32px;\n",
              "      padding: 0 0 0 0;\n",
              "      width: 32px;\n",
              "    }\n",
              "\n",
              "    .colab-df-convert:hover {\n",
              "      background-color: #E2EBFA;\n",
              "      box-shadow: 0px 1px 2px rgba(60, 64, 67, 0.3), 0px 1px 3px 1px rgba(60, 64, 67, 0.15);\n",
              "      fill: #174EA6;\n",
              "    }\n",
              "\n",
              "    [theme=dark] .colab-df-convert {\n",
              "      background-color: #3B4455;\n",
              "      fill: #D2E3FC;\n",
              "    }\n",
              "\n",
              "    [theme=dark] .colab-df-convert:hover {\n",
              "      background-color: #434B5C;\n",
              "      box-shadow: 0px 1px 3px 1px rgba(0, 0, 0, 0.15);\n",
              "      filter: drop-shadow(0px 1px 2px rgba(0, 0, 0, 0.3));\n",
              "      fill: #FFFFFF;\n",
              "    }\n",
              "  </style>\n",
              "\n",
              "      <script>\n",
              "        const buttonEl =\n",
              "          document.querySelector('#df-e5bc7ef7-f3a5-4f95-a24e-f2768dc32ae1 button.colab-df-convert');\n",
              "        buttonEl.style.display =\n",
              "          google.colab.kernel.accessAllowed ? 'block' : 'none';\n",
              "\n",
              "        async function convertToInteractive(key) {\n",
              "          const element = document.querySelector('#df-e5bc7ef7-f3a5-4f95-a24e-f2768dc32ae1');\n",
              "          const dataTable =\n",
              "            await google.colab.kernel.invokeFunction('convertToInteractive',\n",
              "                                                     [key], {});\n",
              "          if (!dataTable) return;\n",
              "\n",
              "          const docLinkHtml = 'Like what you see? Visit the ' +\n",
              "            '<a target=\"_blank\" href=https://colab.research.google.com/notebooks/data_table.ipynb>data table notebook</a>'\n",
              "            + ' to learn more about interactive tables.';\n",
              "          element.innerHTML = '';\n",
              "          dataTable['output_type'] = 'display_data';\n",
              "          await google.colab.output.renderOutput(dataTable, element);\n",
              "          const docLink = document.createElement('div');\n",
              "          docLink.innerHTML = docLinkHtml;\n",
              "          element.appendChild(docLink);\n",
              "        }\n",
              "      </script>\n",
              "    </div>\n",
              "  </div>\n",
              "  "
            ]
          },
          "metadata": {},
          "execution_count": 2
        }
      ]
    },
    {
      "cell_type": "code",
      "source": [
        "# Select only 2 column (G1 and G2)\n",
        "\n",
        "for i in range(33):\n",
        "  if i==30 or i==31 or i==32:\n",
        "    continue\n",
        "  else:\n",
        "    del dfmain[i]\n",
        "\n",
        "dfmain.head()"
      ],
      "metadata": {
        "colab": {
          "base_uri": "https://localhost:8080/",
          "height": 206
        },
        "id": "IGzPenBPTmGA",
        "outputId": "6f34e08e-0588-4538-d52e-d474f2187b37"
      },
      "execution_count": null,
      "outputs": [
        {
          "output_type": "execute_result",
          "data": {
            "text/plain": [
              "   30  31  32\n",
              "0  G1  G2  G3\n",
              "1   5   6   6\n",
              "2   5   5   6\n",
              "3   7   8  10\n",
              "4  15  14  15"
            ],
            "text/html": [
              "\n",
              "  <div id=\"df-81a091e1-7194-4f54-93fb-f3e4fc7fc4e8\">\n",
              "    <div class=\"colab-df-container\">\n",
              "      <div>\n",
              "<style scoped>\n",
              "    .dataframe tbody tr th:only-of-type {\n",
              "        vertical-align: middle;\n",
              "    }\n",
              "\n",
              "    .dataframe tbody tr th {\n",
              "        vertical-align: top;\n",
              "    }\n",
              "\n",
              "    .dataframe thead th {\n",
              "        text-align: right;\n",
              "    }\n",
              "</style>\n",
              "<table border=\"1\" class=\"dataframe\">\n",
              "  <thead>\n",
              "    <tr style=\"text-align: right;\">\n",
              "      <th></th>\n",
              "      <th>30</th>\n",
              "      <th>31</th>\n",
              "      <th>32</th>\n",
              "    </tr>\n",
              "  </thead>\n",
              "  <tbody>\n",
              "    <tr>\n",
              "      <th>0</th>\n",
              "      <td>G1</td>\n",
              "      <td>G2</td>\n",
              "      <td>G3</td>\n",
              "    </tr>\n",
              "    <tr>\n",
              "      <th>1</th>\n",
              "      <td>5</td>\n",
              "      <td>6</td>\n",
              "      <td>6</td>\n",
              "    </tr>\n",
              "    <tr>\n",
              "      <th>2</th>\n",
              "      <td>5</td>\n",
              "      <td>5</td>\n",
              "      <td>6</td>\n",
              "    </tr>\n",
              "    <tr>\n",
              "      <th>3</th>\n",
              "      <td>7</td>\n",
              "      <td>8</td>\n",
              "      <td>10</td>\n",
              "    </tr>\n",
              "    <tr>\n",
              "      <th>4</th>\n",
              "      <td>15</td>\n",
              "      <td>14</td>\n",
              "      <td>15</td>\n",
              "    </tr>\n",
              "  </tbody>\n",
              "</table>\n",
              "</div>\n",
              "      <button class=\"colab-df-convert\" onclick=\"convertToInteractive('df-81a091e1-7194-4f54-93fb-f3e4fc7fc4e8')\"\n",
              "              title=\"Convert this dataframe to an interactive table.\"\n",
              "              style=\"display:none;\">\n",
              "        \n",
              "  <svg xmlns=\"http://www.w3.org/2000/svg\" height=\"24px\"viewBox=\"0 0 24 24\"\n",
              "       width=\"24px\">\n",
              "    <path d=\"M0 0h24v24H0V0z\" fill=\"none\"/>\n",
              "    <path d=\"M18.56 5.44l.94 2.06.94-2.06 2.06-.94-2.06-.94-.94-2.06-.94 2.06-2.06.94zm-11 1L8.5 8.5l.94-2.06 2.06-.94-2.06-.94L8.5 2.5l-.94 2.06-2.06.94zm10 10l.94 2.06.94-2.06 2.06-.94-2.06-.94-.94-2.06-.94 2.06-2.06.94z\"/><path d=\"M17.41 7.96l-1.37-1.37c-.4-.4-.92-.59-1.43-.59-.52 0-1.04.2-1.43.59L10.3 9.45l-7.72 7.72c-.78.78-.78 2.05 0 2.83L4 21.41c.39.39.9.59 1.41.59.51 0 1.02-.2 1.41-.59l7.78-7.78 2.81-2.81c.8-.78.8-2.07 0-2.86zM5.41 20L4 18.59l7.72-7.72 1.47 1.35L5.41 20z\"/>\n",
              "  </svg>\n",
              "      </button>\n",
              "      \n",
              "  <style>\n",
              "    .colab-df-container {\n",
              "      display:flex;\n",
              "      flex-wrap:wrap;\n",
              "      gap: 12px;\n",
              "    }\n",
              "\n",
              "    .colab-df-convert {\n",
              "      background-color: #E8F0FE;\n",
              "      border: none;\n",
              "      border-radius: 50%;\n",
              "      cursor: pointer;\n",
              "      display: none;\n",
              "      fill: #1967D2;\n",
              "      height: 32px;\n",
              "      padding: 0 0 0 0;\n",
              "      width: 32px;\n",
              "    }\n",
              "\n",
              "    .colab-df-convert:hover {\n",
              "      background-color: #E2EBFA;\n",
              "      box-shadow: 0px 1px 2px rgba(60, 64, 67, 0.3), 0px 1px 3px 1px rgba(60, 64, 67, 0.15);\n",
              "      fill: #174EA6;\n",
              "    }\n",
              "\n",
              "    [theme=dark] .colab-df-convert {\n",
              "      background-color: #3B4455;\n",
              "      fill: #D2E3FC;\n",
              "    }\n",
              "\n",
              "    [theme=dark] .colab-df-convert:hover {\n",
              "      background-color: #434B5C;\n",
              "      box-shadow: 0px 1px 3px 1px rgba(0, 0, 0, 0.15);\n",
              "      filter: drop-shadow(0px 1px 2px rgba(0, 0, 0, 0.3));\n",
              "      fill: #FFFFFF;\n",
              "    }\n",
              "  </style>\n",
              "\n",
              "      <script>\n",
              "        const buttonEl =\n",
              "          document.querySelector('#df-81a091e1-7194-4f54-93fb-f3e4fc7fc4e8 button.colab-df-convert');\n",
              "        buttonEl.style.display =\n",
              "          google.colab.kernel.accessAllowed ? 'block' : 'none';\n",
              "\n",
              "        async function convertToInteractive(key) {\n",
              "          const element = document.querySelector('#df-81a091e1-7194-4f54-93fb-f3e4fc7fc4e8');\n",
              "          const dataTable =\n",
              "            await google.colab.kernel.invokeFunction('convertToInteractive',\n",
              "                                                     [key], {});\n",
              "          if (!dataTable) return;\n",
              "\n",
              "          const docLinkHtml = 'Like what you see? Visit the ' +\n",
              "            '<a target=\"_blank\" href=https://colab.research.google.com/notebooks/data_table.ipynb>data table notebook</a>'\n",
              "            + ' to learn more about interactive tables.';\n",
              "          element.innerHTML = '';\n",
              "          dataTable['output_type'] = 'display_data';\n",
              "          await google.colab.output.renderOutput(dataTable, element);\n",
              "          const docLink = document.createElement('div');\n",
              "          docLink.innerHTML = docLinkHtml;\n",
              "          element.appendChild(docLink);\n",
              "        }\n",
              "      </script>\n",
              "    </div>\n",
              "  </div>\n",
              "  "
            ]
          },
          "metadata": {},
          "execution_count": 3
        }
      ]
    },
    {
      "cell_type": "code",
      "source": [
        "# Drop first row\n",
        "dfM=dfmain.drop([0], axis=0)\n",
        "\n",
        "# Rename column\n",
        "dfM.rename(columns={30:'G1',31:'G2',32:'G3'},inplace=True)\n",
        "\n",
        "# Change Data Type form String to Integer\n",
        "dfM=dfM.astype(int)\n",
        "\n",
        "# Display Data\n",
        "dfM.head()\n",
        "\n",
        "# reference: https://stackoverflow.com/questions/64932538/pandas-attribute-error-nonetype-has-no-attribute-rename"
      ],
      "metadata": {
        "colab": {
          "base_uri": "https://localhost:8080/",
          "height": 206
        },
        "id": "9VIFWdsHyJ3L",
        "outputId": "dbf91bdd-3921-47c8-f596-cb168bcdb56e"
      },
      "execution_count": null,
      "outputs": [
        {
          "output_type": "execute_result",
          "data": {
            "text/plain": [
              "   G1  G2  G3\n",
              "1   5   6   6\n",
              "2   5   5   6\n",
              "3   7   8  10\n",
              "4  15  14  15\n",
              "5   6  10  10"
            ],
            "text/html": [
              "\n",
              "  <div id=\"df-77a1c28c-bab7-44a6-8515-ccaf23832aa2\">\n",
              "    <div class=\"colab-df-container\">\n",
              "      <div>\n",
              "<style scoped>\n",
              "    .dataframe tbody tr th:only-of-type {\n",
              "        vertical-align: middle;\n",
              "    }\n",
              "\n",
              "    .dataframe tbody tr th {\n",
              "        vertical-align: top;\n",
              "    }\n",
              "\n",
              "    .dataframe thead th {\n",
              "        text-align: right;\n",
              "    }\n",
              "</style>\n",
              "<table border=\"1\" class=\"dataframe\">\n",
              "  <thead>\n",
              "    <tr style=\"text-align: right;\">\n",
              "      <th></th>\n",
              "      <th>G1</th>\n",
              "      <th>G2</th>\n",
              "      <th>G3</th>\n",
              "    </tr>\n",
              "  </thead>\n",
              "  <tbody>\n",
              "    <tr>\n",
              "      <th>1</th>\n",
              "      <td>5</td>\n",
              "      <td>6</td>\n",
              "      <td>6</td>\n",
              "    </tr>\n",
              "    <tr>\n",
              "      <th>2</th>\n",
              "      <td>5</td>\n",
              "      <td>5</td>\n",
              "      <td>6</td>\n",
              "    </tr>\n",
              "    <tr>\n",
              "      <th>3</th>\n",
              "      <td>7</td>\n",
              "      <td>8</td>\n",
              "      <td>10</td>\n",
              "    </tr>\n",
              "    <tr>\n",
              "      <th>4</th>\n",
              "      <td>15</td>\n",
              "      <td>14</td>\n",
              "      <td>15</td>\n",
              "    </tr>\n",
              "    <tr>\n",
              "      <th>5</th>\n",
              "      <td>6</td>\n",
              "      <td>10</td>\n",
              "      <td>10</td>\n",
              "    </tr>\n",
              "  </tbody>\n",
              "</table>\n",
              "</div>\n",
              "      <button class=\"colab-df-convert\" onclick=\"convertToInteractive('df-77a1c28c-bab7-44a6-8515-ccaf23832aa2')\"\n",
              "              title=\"Convert this dataframe to an interactive table.\"\n",
              "              style=\"display:none;\">\n",
              "        \n",
              "  <svg xmlns=\"http://www.w3.org/2000/svg\" height=\"24px\"viewBox=\"0 0 24 24\"\n",
              "       width=\"24px\">\n",
              "    <path d=\"M0 0h24v24H0V0z\" fill=\"none\"/>\n",
              "    <path d=\"M18.56 5.44l.94 2.06.94-2.06 2.06-.94-2.06-.94-.94-2.06-.94 2.06-2.06.94zm-11 1L8.5 8.5l.94-2.06 2.06-.94-2.06-.94L8.5 2.5l-.94 2.06-2.06.94zm10 10l.94 2.06.94-2.06 2.06-.94-2.06-.94-.94-2.06-.94 2.06-2.06.94z\"/><path d=\"M17.41 7.96l-1.37-1.37c-.4-.4-.92-.59-1.43-.59-.52 0-1.04.2-1.43.59L10.3 9.45l-7.72 7.72c-.78.78-.78 2.05 0 2.83L4 21.41c.39.39.9.59 1.41.59.51 0 1.02-.2 1.41-.59l7.78-7.78 2.81-2.81c.8-.78.8-2.07 0-2.86zM5.41 20L4 18.59l7.72-7.72 1.47 1.35L5.41 20z\"/>\n",
              "  </svg>\n",
              "      </button>\n",
              "      \n",
              "  <style>\n",
              "    .colab-df-container {\n",
              "      display:flex;\n",
              "      flex-wrap:wrap;\n",
              "      gap: 12px;\n",
              "    }\n",
              "\n",
              "    .colab-df-convert {\n",
              "      background-color: #E8F0FE;\n",
              "      border: none;\n",
              "      border-radius: 50%;\n",
              "      cursor: pointer;\n",
              "      display: none;\n",
              "      fill: #1967D2;\n",
              "      height: 32px;\n",
              "      padding: 0 0 0 0;\n",
              "      width: 32px;\n",
              "    }\n",
              "\n",
              "    .colab-df-convert:hover {\n",
              "      background-color: #E2EBFA;\n",
              "      box-shadow: 0px 1px 2px rgba(60, 64, 67, 0.3), 0px 1px 3px 1px rgba(60, 64, 67, 0.15);\n",
              "      fill: #174EA6;\n",
              "    }\n",
              "\n",
              "    [theme=dark] .colab-df-convert {\n",
              "      background-color: #3B4455;\n",
              "      fill: #D2E3FC;\n",
              "    }\n",
              "\n",
              "    [theme=dark] .colab-df-convert:hover {\n",
              "      background-color: #434B5C;\n",
              "      box-shadow: 0px 1px 3px 1px rgba(0, 0, 0, 0.15);\n",
              "      filter: drop-shadow(0px 1px 2px rgba(0, 0, 0, 0.3));\n",
              "      fill: #FFFFFF;\n",
              "    }\n",
              "  </style>\n",
              "\n",
              "      <script>\n",
              "        const buttonEl =\n",
              "          document.querySelector('#df-77a1c28c-bab7-44a6-8515-ccaf23832aa2 button.colab-df-convert');\n",
              "        buttonEl.style.display =\n",
              "          google.colab.kernel.accessAllowed ? 'block' : 'none';\n",
              "\n",
              "        async function convertToInteractive(key) {\n",
              "          const element = document.querySelector('#df-77a1c28c-bab7-44a6-8515-ccaf23832aa2');\n",
              "          const dataTable =\n",
              "            await google.colab.kernel.invokeFunction('convertToInteractive',\n",
              "                                                     [key], {});\n",
              "          if (!dataTable) return;\n",
              "\n",
              "          const docLinkHtml = 'Like what you see? Visit the ' +\n",
              "            '<a target=\"_blank\" href=https://colab.research.google.com/notebooks/data_table.ipynb>data table notebook</a>'\n",
              "            + ' to learn more about interactive tables.';\n",
              "          element.innerHTML = '';\n",
              "          dataTable['output_type'] = 'display_data';\n",
              "          await google.colab.output.renderOutput(dataTable, element);\n",
              "          const docLink = document.createElement('div');\n",
              "          docLink.innerHTML = docLinkHtml;\n",
              "          element.appendChild(docLink);\n",
              "        }\n",
              "      </script>\n",
              "    </div>\n",
              "  </div>\n",
              "  "
            ]
          },
          "metadata": {},
          "execution_count": 4
        }
      ]
    },
    {
      "cell_type": "code",
      "source": [
        "# import graph library\n",
        "#import math\n",
        "from mpl_toolkits import mplot3d\n",
        "from matplotlib.pyplot import figure\n",
        "\n",
        "fig = plt.figure()\n",
        "ax = plt.axes(projection='3d')\n",
        "ax.scatter3D(dfM['G1'],dfM['G2'],dfM['G3'], s=10, edgecolor='black')\n",
        "plt.yticks([]);\n",
        "\n",
        "ax.set_xlabel('G1')\n",
        "ax.set_ylabel('G2')\n",
        "ax.set_zlabel('G3')\n",
        "\n",
        "#ax.view_init(0, 90);\n",
        "# reference: https://youtu.be/gqoLLGgbeAE"
      ],
      "metadata": {
        "colab": {
          "base_uri": "https://localhost:8080/",
          "height": 266
        },
        "id": "ygxIB73equBa",
        "outputId": "baaaaa2e-4e30-430b-f308-8574ac3c4cb4"
      },
      "execution_count": null,
      "outputs": [
        {
          "output_type": "execute_result",
          "data": {
            "text/plain": [
              "Text(0.5, 0, 'G3')"
            ]
          },
          "metadata": {},
          "execution_count": 5
        },
        {
          "output_type": "display_data",
          "data": {
            "text/plain": [
              "<Figure size 432x288 with 1 Axes>"
            ],
            "image/png": "[encoded data removed]"
          },
          "metadata": {
            "needs_background": "light"
          }
        }
      ]
    },
    {
      "cell_type": "markdown",
      "source": [
        "###Step 2, Predicting Data using multivariate linear regression."
      ],
      "metadata": {
        "id": "lhyp_x2vOd_h"
      }
    },
    {
      "cell_type": "markdown",
      "source": [
        "**Here is hypothesis function.**\n",
        "\n",
        "$h(x,y)=z_{h}=\\{\\vec{p}+x*\\vec{\\beta_1}+y*\\vec{\\beta_2}|\\in x,y\\mathbb{R}\\}$\n",
        "\n",
        "**Here is Square Error function.**\n",
        "\n",
        "$\\frac{1}{2m}*\\Sigma_{i=0}^m(h(x_{i},y_{i})-z_{i})^2$\n",
        "\n",
        "**Here is Gradient Descent function.**\n",
        "\n",
        "$h_{i} := h_{i}-a*J'(h_{i})$\n",
        "\n",
        "$h_0 := h_0 - a*J'(h_0)$\n",
        "\n",
        "$h_1 := h_1 - a*J'(h_1)$\n",
        "\n",
        "$h_2 := h_2 - a*J'(h_2)$"
      ],
      "metadata": {
        "id": "yrF3WHlVZIUj"
      }
    },
    {
      "cell_type": "code",
      "source": [
        "# x = input x\n",
        "# y = output y\n",
        "\n",
        "def gradient_descent(\n",
        "    gradient, x, y, start, learn_rate=0.1, n_iter=50, tolerance=1e-06\n",
        "):\n",
        "    vector = start\n",
        "    for _ in range(n_iter):\n",
        "        diff = -learn_rate * np.array(gradient(x, y, vector))\n",
        "        if np.all(np.abs(diff) <= tolerance):\n",
        "            break\n",
        "        vector += diff\n",
        "    return vector\n",
        "\n",
        "def ssr_gradient(x, y, b):\n",
        "    res = b[2] * x[1] + b[1] * x[0] + b[0] - y\n",
        "    # res = h_i[2] * dfM['G2'] + h_i[1] * dfM['G1'] + h_i[0] - y\n",
        "    # res = h_i[2] * Y + h_i[1] * X + h_i[0] - Z\n",
        "    return [res.mean(), (res * x[0]).mean(), (res * x[1]).mean()]\n",
        "\n",
        "h_i=gradient_descent(\n",
        "    ssr_gradient, [dfM['G1'], dfM['G2']], dfM['G3'], start=[0.5, 0.5, 0.5], learn_rate=0.0008,\n",
        "    n_iter=100_000\n",
        ")\n",
        "print(h_i)"
      ],
      "metadata": {
        "colab": {
          "base_uri": "https://localhost:8080/"
        },
        "outputId": "b540c2f0-62a4-4ac0-a1ba-03acac506bf8",
        "id": "YKiWC-V5xj3k"
      },
      "execution_count": null,
      "outputs": [
        {
          "output_type": "stream",
          "name": "stdout",
          "text": [
            "[-1.81511847  0.15205054  0.98683359]\n"
          ]
        }
      ]
    },
    {
      "cell_type": "code",
      "source": [
        "from mpl_toolkits import mplot3d\n",
        "from matplotlib.pyplot import figure\n",
        "\n",
        "fig = plt.figure()\n",
        "\n",
        "N = 50\n",
        "M = 50\n",
        "\n",
        "x_values = np.linspace(0, 20, N)\n",
        "y_values = np.linspace(0, 20, M)\n",
        "\n",
        "X, Y = np.meshgrid(x_values, y_values)\n",
        "\n",
        "Z = h_i[2]*X+h_i[1]*Y+h_i[0]\n",
        "\n",
        "ax = plt.axes(projection='3d')\n",
        "ax.plot_surface(X,Y,Z);\n",
        "ax.scatter3D(dfM['G1'],dfM['G2'],dfM['G3'], s=10, edgecolor='black')\n",
        "\n",
        "ax.set_xlabel('G1')\n",
        "ax.set_ylabel('G2')\n",
        "ax.set_zlabel('G3')\n",
        "\n",
        "#ax.view_init(0,0)\n",
        "# reference: https://youtu.be/gqoLLGgbeAE"
      ],
      "metadata": {
        "colab": {
          "base_uri": "https://localhost:8080/",
          "height": 266
        },
        "outputId": "81b0df6c-040d-4a34-dfad-1c81e7f067fb",
        "id": "Ju4LGhC4l2ts"
      },
      "execution_count": null,
      "outputs": [
        {
          "output_type": "execute_result",
          "data": {
            "text/plain": [
              "Text(0.5, 0, 'G3')"
            ]
          },
          "metadata": {},
          "execution_count": 130
        },
        {
          "output_type": "display_data",
          "data": {
            "text/plain": [
              "<Figure size 432x288 with 1 Axes>"
            ],
            "image/png": "[encoded data removed]"
          },
          "metadata": {
            "needs_background": "light"
          }
        }
      ]
    },
    {
      "cell_type": "markdown",
      "source": [
        "###Reference:\n",
        "* https://towardsdatascience.com/multivariate-linear-regression-in-python-step-by-step-128c2b127171"
      ],
      "metadata": {
        "id": "yYaaCJMnB5tK"
      }
    }
  ]
}